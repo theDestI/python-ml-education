{
 "cells": [
  {
   "cell_type": "code",
   "execution_count": 3,
   "metadata": {},
   "outputs": [
    {
     "data": {
      "text/plain": [
       "[2, 4, 8]"
      ]
     },
     "execution_count": 3,
     "metadata": {},
     "output_type": "execute_result"
    }
   ],
   "source": [
    "from typing import Dict\n",
    "\n",
    "global global_var \n",
    "global_var = 1 # global var\n",
    "\n",
    "def method():\n",
    "\tlocal_var = 2 # local var\n",
    "\n",
    "def some_other_method():\n",
    "\tglobal also_global_var\n",
    "\talso_global_var = 3 # global var\n",
    "\n",
    "a = b = c = 1 # multi assignment\n",
    "a, b, c = (1, 1, 1) # Also possible, assigns \"1\" to everyone\n",
    "a, b = b, a # Also possible, swap algorithm\n",
    "\n",
    "cfg: Dict = {} # Typed variable, will touch a bit later\n",
    "\n",
    "\n",
    "# Python 3.8+\n",
    "f = lambda x: x\n",
    "[y := f(2), y**2, y**3] # Return 2, 4, 8"
   ]
  },
  {
   "cell_type": "code",
   "execution_count": 4,
   "metadata": {},
   "outputs": [],
   "source": [
    "## Numbers\n",
    "a = 1\n",
    "b = 1.0\n",
    "c = 1.\n",
    "d = .5\n",
    "e = 1e-4 # 0.0001\n",
    "g = 3.14j\n",
    "h = 45.j"
   ]
  },
  {
   "cell_type": "code",
   "execution_count": 5,
   "metadata": {},
   "outputs": [
    {
     "name": "stdout",
     "output_type": "stream",
     "text": [
      "Hello\n",
      "H\n",
      "He\n",
      "llo\n",
      "HelloHello\n",
      "Hello World\n",
      "sWorld\n",
      "o\n",
      "Hell\n",
      "olleH\n",
      "Hlo\n"
     ]
    }
   ],
   "source": [
    "## Strings\n",
    "\n",
    "s = \"Hello\"\n",
    "\n",
    "print(s)             # Hello\n",
    "print(s[0])          # H\n",
    "print(s[0:2:1])        # He\n",
    "print(s[2:])         # llo\n",
    "print(s*2)           # HelloHello\n",
    "print(f\"{s} World\")  # Hello World\n",
    "print(\"s\" + \"World\") # Hello World\n",
    "\n",
    "## Fancy\n",
    "print(s[-1])         # o\n",
    "print(s[:-1])        # Hell\n",
    "print(s[::-1])       # olleH\n",
    "print(s[::2])        # Hlo"
   ]
  },
  {
   "cell_type": "code",
   "execution_count": 6,
   "metadata": {},
   "outputs": [
    {
     "name": "stdout",
     "output_type": "stream",
     "text": [
      "[1, 2, 3, 4, 5]\n",
      "1\n",
      "[1, 2]\n",
      "[3, 4, 5]\n",
      "[1, 2, 3, 4, 5, 1, 2, 3, 4, 5]\n",
      "5\n",
      "5\n",
      "[1, 2, 3, 4]\n",
      "[5, 4, 3, 2, 1]\n",
      "[1, 3, 5]\n"
     ]
    }
   ],
   "source": [
    "## Lists\n",
    "\n",
    "my_list = [1, 2, 3, 4, 5]\n",
    "\n",
    "print(my_list)       # [1, 2, 3, 4, 5]\n",
    "print(my_list[0])    # 1\n",
    "print(my_list[0:2])  # [1, 2]\n",
    "print(my_list[2:])   # [3, 4, 5]\n",
    "print(my_list*2)     # [1, 2, 3, 4, 5, 1, 2, 3, 4, 5]\n",
    "print(len(my_list))  # 5\n",
    "\n",
    "## Fancy\n",
    "print(my_list[-1])   # 5\n",
    "print(my_list[:-1])  # [1, 2, 3, 4]\n",
    "print(my_list[::-1]) # [5, 4, 3, 2, 1]\n",
    "print(my_list[::2])  # [1, 3, 5]"
   ]
  },
  {
   "cell_type": "code",
   "execution_count": 8,
   "metadata": {},
   "outputs": [
    {
     "name": "stdout",
     "output_type": "stream",
     "text": [
      "(1, 2, 3, 4, 5)\n",
      "1\n",
      "(1, 2)\n",
      "(3, 4, 5)\n",
      "(1, 2, 3, 4, 5, 1, 2, 3, 4, 5)\n",
      "5\n",
      "5\n",
      "(1, 2, 3, 4)\n",
      "(5, 4, 3, 2, 1)\n",
      "(1, 3, 5)\n"
     ]
    }
   ],
   "source": [
    "## Tuples\n",
    "\n",
    "my_tuple = (1, 2, 3, 4, 5)\n",
    "\n",
    "print(my_tuple)       # (1, 2, 3, 4, 5)\n",
    "print(my_tuple[0])    # 1\n",
    "print(my_tuple[0:2])  # (1, 2)\n",
    "print(my_tuple[2:])   # (3, 4, 5)\n",
    "print(my_tuple*2)     # (1, 2, 3, 4, 5, 1, 2, 3, 4, 5)\n",
    "print(len(my_tuple))  # 5\n",
    "\n",
    "## Fancy\n",
    "print(my_tuple[-1])   # 5\n",
    "print(my_tuple[:-1])  # (1, 2, 3, 4)\n",
    "print(my_tuple[::-1]) # (5, 4, 3, 2, 1)\n",
    "print(my_tuple[::2])  # (1, 3, 5)"
   ]
  },
  {
   "cell_type": "code",
   "execution_count": 10,
   "metadata": {},
   "outputs": [
    {
     "name": "stdout",
     "output_type": "stream",
     "text": [
      "[('a', 1), ('b', 2)]\n",
      "dict_keys(['a', 'b'])\n",
      "dict_values([1, 2])\n",
      "1\n",
      "None\n",
      "-1\n"
     ]
    }
   ],
   "source": [
    "## Dictionaries\n",
    "\n",
    "cfg = {\"a\": 1, \"b\": 2}\n",
    "\n",
    "print(list(cfg.items())) # dict_items([('a', 1), ('b', 2)])\n",
    "print(cfg.keys()) # dict_keys(['a', 'b'])\n",
    "print(cfg.values()) # dict_values([1, 2])\n",
    "\n",
    "print(cfg.get(\"a\", None)) # 1\n",
    "print(cfg.get(\"c\", None)) # None\n",
    "print(cfg.get(\"c\", -1)) # -1\n"
   ]
  },
  {
   "cell_type": "code",
   "execution_count": 40,
   "metadata": {},
   "outputs": [
    {
     "name": "stdout",
     "output_type": "stream",
     "text": [
      "dict_items([('a', 1), ('b', 2)])\n"
     ]
    }
   ],
   "source": [
    "cfg = {\"a\": 1, \"b\": 2}\n",
    "\n",
    "print(cfg.items())"
   ]
  },
  {
   "cell_type": "code",
   "execution_count": 41,
   "metadata": {},
   "outputs": [
    {
     "name": "stdout",
     "output_type": "stream",
     "text": [
      "dict_items([('a', 3), ('b', 2)])\n"
     ]
    }
   ],
   "source": [
    "cfg['a'] = 3\n",
    "\n",
    "print(cfg.items())"
   ]
  },
  {
   "cell_type": "code",
   "execution_count": 42,
   "metadata": {},
   "outputs": [
    {
     "ename": "TypeError",
     "evalue": "'dict_items' object is not subscriptable",
     "output_type": "error",
     "traceback": [
      "\u001b[0;31m---------------------------------------------------------------------------\u001b[0m",
      "\u001b[0;31mTypeError\u001b[0m                                 Traceback (most recent call last)",
      "Cell \u001b[0;32mIn[42], line 1\u001b[0m\n\u001b[0;32m----> 1\u001b[0m cfg\u001b[39m.\u001b[39;49mitems()[\u001b[39m0\u001b[39;49m][\u001b[39m1\u001b[39m] \u001b[39m=\u001b[39m \u001b[39m4\u001b[39m \n",
      "\u001b[0;31mTypeError\u001b[0m: 'dict_items' object is not subscriptable"
     ]
    }
   ],
   "source": [
    "cfg.items()[0][1] = 4 \n"
   ]
  },
  {
   "cell_type": "code",
   "execution_count": 13,
   "metadata": {},
   "outputs": [
    {
     "name": "stdout",
     "output_type": "stream",
     "text": [
      "{1, 2, 3, 4}\n",
      "{1, 3, 4}\n"
     ]
    },
    {
     "ename": "AttributeError",
     "evalue": "'frozenset' object has no attribute 'add'",
     "output_type": "error",
     "traceback": [
      "\u001b[0;31m---------------------------------------------------------------------------\u001b[0m",
      "\u001b[0;31mAttributeError\u001b[0m                            Traceback (most recent call last)",
      "Cell \u001b[0;32mIn[13], line 10\u001b[0m\n\u001b[1;32m      8\u001b[0m \u001b[39m# Frozenset: immutable set with some fancy methods\u001b[39;00m\n\u001b[1;32m      9\u001b[0m my_frozenset \u001b[39m=\u001b[39m \u001b[39mfrozenset\u001b[39m([\u001b[39m1\u001b[39m, \u001b[39m2\u001b[39m, \u001b[39m3\u001b[39m, \u001b[39m4\u001b[39m, \u001b[39m5\u001b[39m])\n\u001b[0;32m---> 10\u001b[0m my_frozenset\u001b[39m.\u001b[39;49madd(\u001b[39m6\u001b[39m)     \u001b[39m# AttributeError: 'frozenset' object has no attribute 'add' \u001b[39;00m\n\u001b[1;32m     11\u001b[0m \u001b[39m# It doesn't have 'remove' either\u001b[39;00m\n",
      "\u001b[0;31mAttributeError\u001b[0m: 'frozenset' object has no attribute 'add'"
     ]
    }
   ],
   "source": [
    "## Advanced\n",
    "\n",
    "# Set items are unordered, unchangeable, and do not allow duplicate values.\n",
    "my_set = {1, 2, 3, 4} # Sets\n",
    "my_set.add(4); print(my_set) # {1, 2, 3, 4}\n",
    "my_set.remove(2); print(my_set) # {1, 3, 4}\n",
    "\n",
    "# Frozenset: immutable set with some fancy methods\n",
    "my_frozenset = frozenset([1, 2, 3, 4, 5])\n",
    "my_frozenset.add(6)     # AttributeError: 'frozenset' object has no attribute 'add' \n",
    "# It doesn't have 'remove' either\n"
   ]
  },
  {
   "cell_type": "code",
   "execution_count": 12,
   "metadata": {},
   "outputs": [
    {
     "name": "stdout",
     "output_type": "stream",
     "text": [
      "frozenset({1, 2, 3, 4, 5, 6, 7})\n",
      "frozenset({4, 5})\n",
      "frozenset({1, 2, 3})\n"
     ]
    }
   ],
   "source": [
    "next(v for v in my_frozenset) # 1\n",
    "\n",
    "other_frozenset = frozenset([4, 5, 6, 7])\n",
    "print(my_frozenset.union(other_frozenset))      # frozenset({1, 2, 3, 4, 5, 6, 7})\n",
    "print(my_frozenset.intersection(other_frozenset)) # frozenset({4, 5})\n",
    "print(my_frozenset.difference(other_frozenset))  # frozenset({1, 2, 3})"
   ]
  },
  {
   "cell_type": "code",
   "execution_count": 14,
   "metadata": {},
   "outputs": [],
   "source": [
    "## Classes"
   ]
  },
  {
   "cell_type": "code",
   "execution_count": 16,
   "metadata": {},
   "outputs": [],
   "source": [
    "class NeuralNetwork:\n",
    "\tdef __init__(self, n_inputs: int, n_hidden: int, n_output: int):\n",
    "\t\t\tself.n_inputs = n_inputs\n",
    "\t\t\tself.n_outputs = n_output\n",
    "\t\t\t\n",
    "\t\t\tself._n_hidden = n_hidden\n",
    "\t\n",
    "\t@property\n",
    "\tdef n_hidden(self):\n",
    "\t\treturn self._n_hidden \n",
    "\n",
    "\tdef get_params_count(self) -> int:\n",
    "\t\t\treturn self.n_inputs * self.n_outputs * self.n_hidden"
   ]
  },
  {
   "cell_type": "code",
   "execution_count": 17,
   "metadata": {},
   "outputs": [],
   "source": [
    "## Class Inheritance\n",
    "\n",
    "class ComplexNeuralNetwork(NeuralNetwork):\n",
    "\t..."
   ]
  },
  {
   "cell_type": "code",
   "execution_count": 18,
   "metadata": {},
   "outputs": [],
   "source": [
    "## Data classes\n",
    "\n",
    "from dataclasses import dataclass\n",
    "\n",
    "@dataclass\n",
    "class Point:\n",
    "    x: float\n",
    "    y: float\n",
    "    z: float = 0.0\n",
    "\n",
    "p1 = Point(1.0, 2.0, 3.0)"
   ]
  },
  {
   "cell_type": "code",
   "execution_count": 19,
   "metadata": {},
   "outputs": [
    {
     "name": "stdout",
     "output_type": "stream",
     "text": [
      "False\n",
      "True\n",
      "False\n",
      "Person(name='Alice', age=25)\n",
      "True\n"
     ]
    }
   ],
   "source": [
    "## Magic methods\n",
    "\n",
    "class Person:\n",
    "    def __init__(self, name, age):\n",
    "        self.name = name\n",
    "        self.age = age\n",
    "    \n",
    "    def __repr__(self):\n",
    "        return f\"Person(name='{self.name}', age={self.age})\"\n",
    "    \n",
    "    def __eq__(self, other):\n",
    "        if isinstance(other, Person):\n",
    "            return self.name == other.name and self.age == other.age\n",
    "        return False\n",
    "    \n",
    "    def __gt__(self, other):\n",
    "        if isinstance(other, Person):\n",
    "            return self.age > other.age\n",
    "        return NotImplemented\n",
    "    \n",
    "    def __lt__(self, other):\n",
    "        if isinstance(other, Person):\n",
    "            return self.age < other.age\n",
    "        return NotImplemented\n",
    "\n",
    "\n",
    "# Creating instances of the Person class\n",
    "person1 = Person(\"Alice\", 25)\n",
    "person2 = Person(\"Bob\", 30)\n",
    "person3 = Person(\"Charlie\", 20)\n",
    "\n",
    "# Using comparison operators\n",
    "print(person1 > person2)   # False\n",
    "print(person1 < person2)   # True\n",
    "print(person1 == person2)  # False\n",
    "\n",
    "# Using the __repr__ method\n",
    "print(person1)  # Person(name='Alice', age=25)\n",
    "\n",
    "# Creating a duplicate instance\n",
    "person1_duplicate = Person(\"Alice\", 25)\n",
    "\n",
    "# Testing equality\n",
    "print(person1 == person1_duplicate)  # True"
   ]
  },
  {
   "cell_type": "code",
   "execution_count": 20,
   "metadata": {},
   "outputs": [],
   "source": [
    "## List Comprehensions"
   ]
  },
  {
   "cell_type": "code",
   "execution_count": 49,
   "metadata": {},
   "outputs": [
    {
     "name": "stdout",
     "output_type": "stream",
     "text": [
      "[1, 2, 3, 4, 5]\n",
      "[1, 4, 9, 16, 25]\n",
      "[1, 3, 5]\n",
      "{1: 1, 2: 2, 3: 3, 4: 4, 5: 5}\n",
      "[(1, 6), (2, 7), (3, 8), (4, 9), (5, 10)]\n",
      "[(1, 6), (2, 7), (3, 8)]\n"
     ]
    }
   ],
   "source": [
    "my_list = [1, 2, 3, 4, 5]\n",
    "\n",
    "sqr = lambda x: x**2\n",
    "\n",
    "print([x for x in my_list])\n",
    "print([sqr(x) for x in my_list])\n",
    "print([x for x in my_list if x % 2 == 1])\n",
    "print({x: x for x in my_list})\n",
    "\n",
    "other_list = [6, 7, 8, 9, 10]\n",
    "print([(x, y) for x, y in zip(my_list, other_list)]) # [(1, 6), (2, 7), (3, 8), (4, 9), (5, 10)]\n",
    "\n",
    "short_list = [6, 7, 8]\n",
    "print([(x, y) for x, y in zip(my_list, short_list)]) # [(1, 6), (2, 7), (3, 8)]"
   ]
  },
  {
   "cell_type": "code",
   "execution_count": 50,
   "metadata": {},
   "outputs": [],
   "source": [
    "## Generators"
   ]
  },
  {
   "cell_type": "code",
   "execution_count": 51,
   "metadata": {},
   "outputs": [],
   "source": [
    "even_numbers = (x for x in range(1, 11) if x % 2 == 0)"
   ]
  },
  {
   "cell_type": "code",
   "execution_count": 55,
   "metadata": {},
   "outputs": [
    {
     "data": {
      "text/plain": [
       "[6, 8, 10]"
      ]
     },
     "execution_count": 55,
     "metadata": {},
     "output_type": "execute_result"
    }
   ],
   "source": [
    "list(even_numbers)"
   ]
  },
  {
   "cell_type": "code",
   "execution_count": 23,
   "metadata": {},
   "outputs": [
    {
     "name": "stdout",
     "output_type": "stream",
     "text": [
      "<generator object method_even_numbers at 0x7f286aba0270>\n",
      "2\n",
      "4\n",
      "6\n",
      "8\n",
      "10\n",
      "<generator object <genexpr> at 0x7f286aba04a0>\n",
      "[2, 4, 6, 8, 10]\n",
      "1\n",
      "3\n"
     ]
    }
   ],
   "source": [
    "even_numbers = (x for x in range(1, 11) if x % 2 == 0)\n",
    "\n",
    "#or\n",
    "\n",
    "def method_even_numbers(x, y):\n",
    "\t for z in range(x, y):\n",
    "\t\t\tif z % 2 == 0:\n",
    "\t\t\t\tyield z\n",
    "\n",
    "var = method_even_numbers(1, 11)\n",
    "print(var)\n",
    "\n",
    "[print(x) for x in method_even_numbers(1, 11)]\n",
    "2\n",
    "4\n",
    "6\n",
    "8\n",
    "10\n",
    "\n",
    "print(even_numbers)\n",
    "# <generator object <genexpr> at 0x7fda0d943760>\n",
    "\n",
    "print([x for x in even_numbers])\n",
    "\n",
    "odd_numbers = (x for x in range(1, 11) if x % 2 == 1)\n",
    "\n",
    "print(next(odd_numbers)) # 1\n",
    "print(next(odd_numbers)) # 3"
   ]
  },
  {
   "cell_type": "code",
   "execution_count": 24,
   "metadata": {},
   "outputs": [],
   "source": [
    "## Exceptions"
   ]
  },
  {
   "cell_type": "code",
   "execution_count": 25,
   "metadata": {},
   "outputs": [
    {
     "name": "stdout",
     "output_type": "stream",
     "text": [
      "Cannot divide by zero!\n"
     ]
    }
   ],
   "source": [
    "try:\n",
    "    print(5/0)\n",
    "except ZeroDivisionError:\n",
    "    print(\"Cannot divide by zero!\")"
   ]
  },
  {
   "cell_type": "code",
   "execution_count": 26,
   "metadata": {},
   "outputs": [
    {
     "name": "stdout",
     "output_type": "stream",
     "text": [
      "Cannot divide by zero!\n",
      "This is always executed.\n"
     ]
    }
   ],
   "source": [
    "try:\n",
    "    print(5/0)\n",
    "except:\n",
    "    print(\"Cannot divide by zero!\")\n",
    "finally:\n",
    "    print(\"This is always executed.\")"
   ]
  },
  {
   "cell_type": "code",
   "execution_count": 27,
   "metadata": {},
   "outputs": [],
   "source": [
    "## File I/O"
   ]
  },
  {
   "cell_type": "code",
   "execution_count": 29,
   "metadata": {},
   "outputs": [],
   "source": [
    "f = open(\"demofile.txt\")"
   ]
  },
  {
   "cell_type": "code",
   "execution_count": 57,
   "metadata": {},
   "outputs": [],
   "source": [
    "f = open(\"./demofile2.txt\", \"w\")\n",
    "f.write(\"Now the file has more content!\")\n",
    "f.close()\n",
    "\n",
    "with open(\"./demofile2.txt\", \"w\") as f:\n",
    "\tf.write(\"bla bla\")"
   ]
  },
  {
   "cell_type": "code",
   "execution_count": 31,
   "metadata": {},
   "outputs": [
    {
     "name": "stdout",
     "output_type": "stream",
     "text": [
      "bla bla\n",
      "bla bla\n"
     ]
    }
   ],
   "source": [
    "f = open(\"demofile2.txt\", \"r\")\n",
    "print(f.read())\n",
    "\n",
    "with open(\"demofile2.txt\", \"r\") as f:\n",
    "    print(f.read())"
   ]
  },
  {
   "cell_type": "code",
   "execution_count": 32,
   "metadata": {},
   "outputs": [],
   "source": [
    "## Regular Expressions"
   ]
  },
  {
   "cell_type": "code",
   "execution_count": 33,
   "metadata": {},
   "outputs": [],
   "source": [
    "import re\n",
    "\n",
    "txt = \"The rain in Spain\"\n",
    "x = re.search(\"^The.*Spain$\", txt)"
   ]
  },
  {
   "cell_type": "code",
   "execution_count": 35,
   "metadata": {},
   "outputs": [
    {
     "data": {
      "text/plain": [
       "<re.Match object; span=(0, 17), match='The rain in Spain'>"
      ]
     },
     "execution_count": 35,
     "metadata": {},
     "output_type": "execute_result"
    }
   ],
   "source": [
    "x"
   ]
  },
  {
   "cell_type": "code",
   "execution_count": 36,
   "metadata": {},
   "outputs": [],
   "source": [
    "## Functional Programming (Get back to Notion)"
   ]
  },
  {
   "cell_type": "code",
   "execution_count": 66,
   "metadata": {},
   "outputs": [
    {
     "data": {
      "text/plain": [
       "{1: 2}"
      ]
     },
     "execution_count": 66,
     "metadata": {},
     "output_type": "execute_result"
    }
   ],
   "source": [
    "import toolz as tz\n",
    "\n",
    "fc = tz.curry(tz.valfilter)(d = {1: 2, 2: 3})\n",
    "\n",
    "fc(lambda x: x < 3)"
   ]
  },
  {
   "cell_type": "code",
   "execution_count": 37,
   "metadata": {},
   "outputs": [
    {
     "data": {
      "text/plain": [
       "[1, None, 2, 3, 4, 5]"
      ]
     },
     "execution_count": 37,
     "metadata": {},
     "output_type": "execute_result"
    }
   ],
   "source": [
    "# Our task is to clean the data and convert it to a list of integers.\n",
    "from typing import Union\n",
    "\n",
    "import toolz as tz\n",
    "\n",
    "arr = [\"1\", None, 2, 3.5, 4, \"5.5\"]\n",
    "\n",
    "def parse_number(x: str) -> Union[float, None]:\n",
    "    try:\n",
    "        return float(x)\n",
    "    except:\n",
    "        return None\n",
    "    \n",
    "def float_to_int(x: float) -> Union[int, None]:\n",
    "    return int(x) if x is not None else None\n",
    "\n",
    "def clean_data(arr: list) -> list:\n",
    "    pipeline = tz.compose(\n",
    "        float_to_int,\n",
    "        parse_number\n",
    "    )\n",
    "\n",
    "    return list(map(pipeline, arr))\n",
    "\n",
    "clean_data(arr)\n",
    "\n",
    "# tz.compose(f, h, d)(x) == f(h(d(\"1\")))"
   ]
  },
  {
   "cell_type": "code",
   "execution_count": 38,
   "metadata": {},
   "outputs": [
    {
     "data": {
      "text/plain": [
       "[0.6666666666666666, 1.3333333333333333]"
      ]
     },
     "execution_count": 38,
     "metadata": {},
     "output_type": "execute_result"
    }
   ],
   "source": [
    "d = {1: 2, 2: 3, 3: 4, 4: 5}\n",
    "\n",
    "def normalize(l: list) -> list:\n",
    "    mean = sum(l) / len(l)\n",
    "\n",
    "    return [x / mean for x in l]\n",
    "\n",
    "pipeline = tz.compose(\n",
    "    normalize,\n",
    "    tz.curry(tz.valfilter)(lambda x: x < 4)\n",
    ")\n",
    "\n",
    "pipeline(d)\n",
    "\n",
    "# [0.6666666666666666, 1.3333333333333333]"
   ]
  },
  {
   "cell_type": "code",
   "execution_count": null,
   "metadata": {},
   "outputs": [],
   "source": []
  }
 ],
 "metadata": {
  "kernelspec": {
   "display_name": ".venv",
   "language": "python",
   "name": "python3"
  },
  "language_info": {
   "codemirror_mode": {
    "name": "ipython",
    "version": 3
   },
   "file_extension": ".py",
   "mimetype": "text/x-python",
   "name": "python",
   "nbconvert_exporter": "python",
   "pygments_lexer": "ipython3",
   "version": "3.10.9"
  },
  "orig_nbformat": 4
 },
 "nbformat": 4,
 "nbformat_minor": 2
}
